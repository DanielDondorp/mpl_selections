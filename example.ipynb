{
 "cells": [
  {
   "cell_type": "code",
   "execution_count": 1,
   "metadata": {},
   "outputs": [],
   "source": [
    "import matplotlib.pyplot as plt\n",
    "import numpy as np\n",
    "from mpl_selections import Selector\n",
    "import ipywidgets as widgets\n",
    "from sklearn.utils import shuffle\n"
   ]
  },
  {
   "cell_type": "code",
   "execution_count": 23,
   "metadata": {},
   "outputs": [],
   "source": [
    "def make_population(n = 100):\n",
    "    x = np.random.normal(100*np.random.uniform(), 5*np.random.uniform(), n)\n",
    "    y = np.random.normal(100*np.random.uniform(), 5*np.random.uniform(), n)\n",
    "    return(shuffle(np.hstack([x.reshape(-1,1), y.reshape(-1,1)])))\n",
    "\n",
    "def sample_data(n_clusters = 5):\n",
    "    return np.vstack([make_population() for _ in range(n_clusters)])\n",
    "\n",
    "def scatter_data(ax):\n",
    "    ax.clear()\n",
    "    data = sample_data()\n",
    "    ax.scatter(data[:,0], data[:,1])\n",
    "    return data\n",
    "\n",
    "def plot_selection():\n",
    "    selection = s.get_selection()\n",
    "    ax1.clear()\n",
    "    ax1.hist(data[:,0][selection], alpha = 0.5, density = True, color = \"teal\")\n",
    "    ax1.hist(data[:,1][selection], alpha = 0.5, density = True, color = \"g\")\n",
    "s.on_release_func = plot_selection\n",
    "\n",
    "def set_update_res(val):\n",
    "    v = val[\"new\"]\n",
    "    s.update_resolution = v"
   ]
  },
  {
   "cell_type": "code",
   "execution_count": 24,
   "metadata": {},
   "outputs": [],
   "source": [
    "%matplotlib widget"
   ]
  },
  {
   "cell_type": "code",
   "execution_count": 27,
   "metadata": {},
   "outputs": [
    {
     "data": {
      "application/vnd.jupyter.widget-view+json": {
       "model_id": "bcbbeae1881c4fdea990c9ba30b1c564",
       "version_major": 2,
       "version_minor": 0
      },
      "text/plain": [
       "Canvas(toolbar=Toolbar(toolitems=[('Home', 'Reset original view', 'home', 'home'), ('Back', 'Back to previous …"
      ]
     },
     "metadata": {},
     "output_type": "display_data"
    },
    {
     "data": {
      "application/vnd.jupyter.widget-view+json": {
       "model_id": "d53c199d06d842759b4397374b698a51",
       "version_major": 2,
       "version_minor": 0
      },
      "text/plain": [
       "IntSlider(value=20, description='Selection Resolution', max=50, min=5)"
      ]
     },
     "metadata": {},
     "output_type": "display_data"
    }
   ],
   "source": [
    "#Make a figure\n",
    "fig, axes = plt.subplots(1,2)\n",
    "ax, ax1 = axes\n",
    "ax.axis(\"equal\")\n",
    "\n",
    "#Put some data on the figure\n",
    "data = scatter_data(ax)\n",
    "\n",
    "#Create a selector object and pass it the axis where it operates\n",
    "s = Selector(ax)\n",
    "\n",
    "#connect a custom function that gets called when the mouse is released\n",
    "s.on_release_func = plot_selection\n",
    "\n",
    "#make a slider that controls the selection resolution\n",
    "slider = widgets.IntSlider(description = \"Selection Resolution\", min = 5, max = 50, value = s.update_resolution)\n",
    "slider.observe(set_update_res, names=\"value\")\n",
    "display(slider)\n"
   ]
  },
  {
   "cell_type": "code",
   "execution_count": 8,
   "metadata": {},
   "outputs": [],
   "source": [
    "data = scatter_data(ax)"
   ]
  },
  {
   "cell_type": "code",
   "execution_count": null,
   "metadata": {},
   "outputs": [],
   "source": []
  }
 ],
 "metadata": {
  "kernelspec": {
   "display_name": "Python 3",
   "language": "python",
   "name": "python3"
  },
  "language_info": {
   "codemirror_mode": {
    "name": "ipython",
    "version": 3
   },
   "file_extension": ".py",
   "mimetype": "text/x-python",
   "name": "python",
   "nbconvert_exporter": "python",
   "pygments_lexer": "ipython3",
   "version": "3.6.9"
  }
 },
 "nbformat": 4,
 "nbformat_minor": 2
}
